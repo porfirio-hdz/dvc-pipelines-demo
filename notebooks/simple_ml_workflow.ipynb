{
 "cells": [
  {
   "cell_type": "code",
   "execution_count": 1,
   "metadata": {},
   "outputs": [],
   "source": [
    "# Import necessary libraries\n",
    "import pandas as pd\n",
    "import yaml\n",
    "import joblib\n",
    "from sklearn.model_selection import train_test_split\n",
    "from sklearn.ensemble import RandomForestClassifier\n",
    "from sklearn.preprocessing import OneHotEncoder\n",
    "from sklearn.compose import ColumnTransformer\n",
    "from sklearn.metrics import accuracy_score, classification_report\n"
   ]
  },
  {
   "cell_type": "code",
   "execution_count": 2,
   "metadata": {},
   "outputs": [
    {
     "name": "stdout",
     "output_type": "stream",
     "text": [
      "/Users/porfirio.hernandez/Documents/mlop-coecytjal/module 8\n"
     ]
    },
    {
     "name": "stderr",
     "output_type": "stream",
     "text": [
      "/Users/porfirio.hernandez/Documents/mlop-coecytjal/module 8/.mlops/lib/python3.11/site-packages/IPython/core/magics/osm.py:417: UserWarning: using dhist requires you to install the `pickleshare` library.\n",
      "  self.shell.db['dhist'] = compress_dhist(dhist)[-100:]\n"
     ]
    }
   ],
   "source": [
    "# Go to project root folder\n",
    "%cd .."
   ]
  },
  {
   "cell_type": "code",
   "execution_count": 3,
   "metadata": {},
   "outputs": [
    {
     "name": "stdout",
     "output_type": "stream",
     "text": [
      "{'base': {'log_level': 'INFO', 'random_state': 42},\n",
      " 'data_load': {'dataset_csv': 'data/raw/penguins.csv',\n",
      "               'dataset_prepare': 'data/processed/prepare_penguins.csv'},\n",
      " 'data_split': {'test_size': 0.2,\n",
      "                'testset_path': 'data/processed/test_penguins.csv',\n",
      "                'trainset_path': 'data/processed/train_penguins.csv'},\n",
      " 'evaluate': {'confusion_matrix_image': 'confusion_matrix.png',\n",
      "              'metrics_file': 'metrics.json',\n",
      "              'reports_dir': 'reports'},\n",
      " 'featurize': {'categorical_features': ['sex'],\n",
      "               'features_path': 'data/processed/featured_penguins.csv',\n",
      "               'target_column': 'species'},\n",
      " 'train': {'cv': 3,\n",
      "           'estimator_name': 'rdm_forest',\n",
      "           'estimators': {'logreg': {'param_grid': {'C': [0.005],\n",
      "                                                    'max_iter': [100],\n",
      "                                                    'multi_class': ['multinomial'],\n",
      "                                                    'solver': ['lbfgs']}},\n",
      "                          'rdm_forest': {'param_grid': None},\n",
      "                          'svm': {'param_grid': {'C': [0.1, 1.0],\n",
      "                                                 'degree': [3, 5],\n",
      "                                                 'gamma': ['scale'],\n",
      "                                                 'kernel': ['rbf', 'linear']}}},\n",
      "           'model_path': 'models/model.joblib'}}\n"
     ]
    }
   ],
   "source": [
    "# Read config\n",
    "import pprint\n",
    "\n",
    "with open('params.yaml') as conf_file:\n",
    "    config = yaml.safe_load(conf_file)\n",
    "\n",
    "pprint.pprint(config)"
   ]
  },
  {
   "cell_type": "markdown",
   "metadata": {},
   "source": [
    "### Data Prepare"
   ]
  },
  {
   "cell_type": "code",
   "execution_count": 4,
   "metadata": {},
   "outputs": [
    {
     "name": "stdout",
     "output_type": "stream",
     "text": [
      "(344, 9)\n"
     ]
    }
   ],
   "source": [
    "# Load the Penguins dataset\n",
    "df = pd.read_csv(config['data_load']['dataset_csv'])\n",
    "\n",
    "# Display the first few rows of the dataset\n",
    "df.head()\n",
    "print(df.shape)\n",
    "# drop NaNs\n",
    "df = df.dropna(axis=0, how='any')\n",
    "df = df.drop('Unnamed: 0', axis=1)\n"
   ]
  },
  {
   "cell_type": "markdown",
   "metadata": {},
   "source": [
    "### Feature Processing"
   ]
  },
  {
   "cell_type": "code",
   "execution_count": 19,
   "metadata": {},
   "outputs": [],
   "source": [
    "# Split the data into features (X) and target variable (y) and dropping specific columns from the dataset\n",
    "X = df.drop(['species', 'island', 'year', 'bill_length_mm'], axis=1)\n",
    "y = df['species']\n",
    "\n",
    "# Define categorical features\n",
    "categorical_features = ['sex']\n",
    "\n",
    "# Create a column transformer with one-hot encoding\n",
    "preprocessor = ColumnTransformer(\n",
    "    transformers=[\n",
    "        ('cat', OneHotEncoder(), categorical_features)\n",
    "    ],\n",
    "    remainder='passthrough'\n",
    ")\n",
    "\n",
    "X_processed = preprocessor.fit_transform(X)\n"
   ]
  },
  {
   "cell_type": "code",
   "execution_count": 20,
   "metadata": {},
   "outputs": [],
   "source": [
    "X_processed_df = pd.DataFrame(X_processed, columns=preprocessor.get_feature_names_out())"
   ]
  },
  {
   "cell_type": "markdown",
   "metadata": {},
   "source": [
    "### Data Split"
   ]
  },
  {
   "cell_type": "code",
   "execution_count": 23,
   "metadata": {},
   "outputs": [],
   "source": [
    "# Split the data into training and testing sets\n",
    "X_train, X_test, y_train, y_test = train_test_split(X_processed, y, test_size=0.2, random_state=42)"
   ]
  },
  {
   "cell_type": "markdown",
   "metadata": {},
   "source": [
    "### Model Training"
   ]
  },
  {
   "cell_type": "code",
   "execution_count": 24,
   "metadata": {},
   "outputs": [
    {
     "data": {
      "text/plain": [
       "['models/model.joblib']"
      ]
     },
     "execution_count": 24,
     "metadata": {},
     "output_type": "execute_result"
    }
   ],
   "source": [
    "# Create a logistic regression model\n",
    "model = RandomForestClassifier(n_estimators=100, random_state=42)\n",
    "\n",
    "# Fit the model to the training data\n",
    "model.fit(X_train, y_train)\n",
    "joblib.dump(model, config['train']['model_path'])\n"
   ]
  },
  {
   "cell_type": "markdown",
   "metadata": {},
   "source": [
    "### Model Evaluate"
   ]
  },
  {
   "cell_type": "code",
   "execution_count": 25,
   "metadata": {},
   "outputs": [
    {
     "name": "stdout",
     "output_type": "stream",
     "text": [
      "Accuracy: 0.79\n",
      "\n",
      "Classification Report:\n",
      "               precision    recall  f1-score   support\n",
      "\n",
      "      Adelie       0.72      0.90      0.80        31\n",
      "   Chinstrap       0.70      0.39      0.50        18\n",
      "      Gentoo       1.00      1.00      1.00        18\n",
      "\n",
      "    accuracy                           0.79        67\n",
      "   macro avg       0.81      0.76      0.77        67\n",
      "weighted avg       0.79      0.79      0.77        67\n",
      "\n"
     ]
    }
   ],
   "source": [
    "# Make predictions on the test set\n",
    "y_pred = model.predict(X_test)\n",
    "\n",
    "# Evaluate the model\n",
    "accuracy = accuracy_score(y_test, y_pred)\n",
    "classification_rep = classification_report(y_test, y_pred)\n",
    "\n",
    "# Display the results\n",
    "print(f\"Accuracy: {accuracy:.2f}\")\n",
    "print(\"\\nClassification Report:\\n\", classification_rep)\n"
   ]
  },
  {
   "cell_type": "code",
   "execution_count": null,
   "metadata": {},
   "outputs": [],
   "source": []
  }
 ],
 "metadata": {
  "kernelspec": {
   "display_name": "Data-Science",
   "language": "python",
   "name": "python3"
  },
  "language_info": {
   "codemirror_mode": {
    "name": "ipython",
    "version": 3
   },
   "file_extension": ".py",
   "mimetype": "text/x-python",
   "name": "python",
   "nbconvert_exporter": "python",
   "pygments_lexer": "ipython3",
   "version": "3.9.12"
  }
 },
 "nbformat": 4,
 "nbformat_minor": 2
}
